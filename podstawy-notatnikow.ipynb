{
  "nbformat": 4,
  "nbformat_minor": 0,
  "metadata": {
    "colab": {
      "name": "Podstawy notatników.ipynb",
      "provenance": [],
      "collapsed_sections": [
        "Ka6mFCVKrSvS"
      ],
      "toc_visible": true,
      "mount_file_id": "1k6WGTuIgofC1cdqoHbVmaU6naFOnos6f",
      "authorship_tag": "ABX9TyOHKGFfDT4UP/oxnHK7GYzl",
      "include_colab_link": true
    },
    "kernelspec": {
      "name": "python3",
      "display_name": "Python 3"
    }
  },
  "cells": [
    {
      "cell_type": "markdown",
      "metadata": {
        "id": "view-in-github",
        "colab_type": "text"
      },
      "source": [
        "<a href=\"https://colab.research.google.com/github/fl4izdn4g/colab-training/blob/main/podstawy-notatnikow.ipynb\" target=\"_parent\"><img src=\"https://colab.research.google.com/assets/colab-badge.svg\" alt=\"Open In Colab\"/></a>"
      ]
    },
    {
      "cell_type": "markdown",
      "metadata": {
        "id": "N4wrviHRS6m3"
      },
      "source": [
        "# Podstawy\n",
        "\n",
        "Praca z Colaboratory jest prosta i intuicyjna. Każdy notatnik składa się z komórek. Ta komórka to pole tekstowe. Można tutaj korzystać z Markdown.\n",
        "\n",
        "Wypunktowanie:\n",
        "* lista 1\n",
        "* lista 2\n",
        "\n",
        "Wypunktowanie numerowane:\n",
        "1. inna lista 1\n",
        "2. inna lista 2\n",
        "\n",
        "### Linki\n",
        "[Przejdź na Onet](https://onet.pl)\n",
        "\n",
        "### Obrazki\n",
        "![](https://miro.medium.com/max/4800/0*3X42icWijfCKO9yw.png)\n",
        "\n",
        "### Obrazki z Google Drive\n",
        "1. W Google Drive Udostępniamy plik obrazka\n",
        "\n",
        "*https://drive.google.com/file/d/1B-EMZEfxpdyfpwJU3qecdVNZ89di6bL-/view?usp=sharing*\n",
        "\n",
        "2. Wyciągamy identyfikator obrazka\n",
        "\n",
        "**1B-EMZEfxpdyfpwJU3qecdVNZ89di6bL-**\n",
        "\n",
        "3. Wklejamy go w szablon adresu\n",
        "\n",
        "https://drive.google.com/uc?export=view&id=[identyfikator]\n",
        "\n",
        "![](https://drive.google.com/uc?export=view&id=1B-EMZEfxpdyfpwJU3qecdVNZ89di6bL-)\n",
        "\n"
      ]
    },
    {
      "cell_type": "markdown",
      "metadata": {
        "id": "f6Zufih0lR6f"
      },
      "source": [
        "# Kod"
      ]
    },
    {
      "cell_type": "code",
      "metadata": {
        "id": "2H2Gamz1S2zZ",
        "colab": {
          "base_uri": "https://localhost:8080/"
        },
        "outputId": "36bdcaf1-2c82-4283-bcf8-9973c32734a6"
      },
      "source": [
        "# to jest komórka z kodem\n",
        "print('Witajcie Ziemianie')"
      ],
      "execution_count": null,
      "outputs": [
        {
          "output_type": "stream",
          "text": [
            "Witajcie Ziemianie\n"
          ],
          "name": "stdout"
        }
      ]
    },
    {
      "cell_type": "code",
      "metadata": {
        "colab": {
          "base_uri": "https://localhost:8080/"
        },
        "id": "NBvtxRZekiOZ",
        "outputId": "b2b37568-dc0b-4d35-8b98-17659b14f416"
      },
      "source": [
        "a = 4\n",
        "b = 6\n",
        "a + b"
      ],
      "execution_count": null,
      "outputs": [
        {
          "output_type": "execute_result",
          "data": {
            "text/plain": [
              "10"
            ]
          },
          "metadata": {
            "tags": []
          },
          "execution_count": 19
        }
      ]
    },
    {
      "cell_type": "code",
      "metadata": {
        "colab": {
          "base_uri": "https://localhost:8080/"
        },
        "id": "R8a_sZ9DksF7",
        "outputId": "a33da708-5951-4c34-a8d4-aa80431ee91d"
      },
      "source": [
        "print(a)"
      ],
      "execution_count": null,
      "outputs": [
        {
          "output_type": "stream",
          "text": [
            "4\n"
          ],
          "name": "stdout"
        }
      ]
    },
    {
      "cell_type": "code",
      "metadata": {
        "colab": {
          "base_uri": "https://localhost:8080/"
        },
        "id": "qD3rdBpDlC2y",
        "outputId": "ba8290a7-a252-4f3f-ca8c-f62ee8f7ffe5"
      },
      "source": [
        "for i in range(10):\n",
        "  print(i)"
      ],
      "execution_count": null,
      "outputs": [
        {
          "output_type": "stream",
          "text": [
            "0\n",
            "1\n",
            "2\n",
            "3\n",
            "4\n",
            "5\n",
            "6\n",
            "7\n",
            "8\n",
            "9\n"
          ],
          "name": "stdout"
        }
      ]
    },
    {
      "cell_type": "code",
      "metadata": {
        "colab": {
          "base_uri": "https://localhost:8080/"
        },
        "id": "moA7EgOloc6e",
        "outputId": "b4047402-978c-4cbb-e7f5-6a42e4ddc79d"
      },
      "source": [
        "tekst = \"a\"\n",
        "for i in range(10):\n",
        "  print(tekst*i)"
      ],
      "execution_count": null,
      "outputs": [
        {
          "output_type": "stream",
          "text": [
            "\n",
            "a\n",
            "aa\n",
            "aaa\n",
            "aaaa\n",
            "aaaaa\n",
            "aaaaaa\n",
            "aaaaaaa\n",
            "aaaaaaaa\n",
            "aaaaaaaaa\n"
          ],
          "name": "stdout"
        }
      ]
    },
    {
      "cell_type": "markdown",
      "metadata": {
        "id": "ypDSqZdulXOB"
      },
      "source": [
        "## Instalowanie dodatkowych bibliotek"
      ]
    },
    {
      "cell_type": "code",
      "metadata": {
        "colab": {
          "base_uri": "https://localhost:8080/"
        },
        "id": "7VYEDyEplW3E",
        "outputId": "c20454b5-5ba3-4bb8-f1bb-07358bfef8f5"
      },
      "source": [
        "# dodawanie bibliotek do pythona\n",
        "!pip install curl"
      ],
      "execution_count": null,
      "outputs": [
        {
          "output_type": "stream",
          "text": [
            "Collecting curl\n",
            "  Downloading https://files.pythonhosted.org/packages/c5/0f/f55187f6441f13e19df9a9d37786a3e2794608fce576998ad94756216815/curl-0.0.1-py3-none-any.whl\n",
            "Installing collected packages: curl\n",
            "Successfully installed curl-0.0.1\n"
          ],
          "name": "stdout"
        }
      ]
    },
    {
      "cell_type": "code",
      "metadata": {
        "colab": {
          "base_uri": "https://localhost:8080/"
        },
        "id": "jLjfPGSHlnXj",
        "outputId": "05d06c30-ac3f-4cda-de91-317c3f820219"
      },
      "source": [
        "# dodawanie bibliotek do środowiska\n",
        "!apt-get -qq install -y libfluidsynth1"
      ],
      "execution_count": null,
      "outputs": [
        {
          "output_type": "stream",
          "text": [
            "Selecting previously unselected package libfluidsynth1:amd64.\n",
            "(Reading database ... 146374 files and directories currently installed.)\n",
            "Preparing to unpack .../libfluidsynth1_1.1.9-1_amd64.deb ...\n",
            "Unpacking libfluidsynth1:amd64 (1.1.9-1) ...\n",
            "Setting up libfluidsynth1:amd64 (1.1.9-1) ...\n",
            "Processing triggers for libc-bin (2.27-3ubuntu1.3) ...\n",
            "/sbin/ldconfig.real: /usr/local/lib/python3.6/dist-packages/ideep4py/lib/libmkldnn.so.0 is not a symbolic link\n",
            "\n"
          ],
          "name": "stdout"
        }
      ]
    },
    {
      "cell_type": "markdown",
      "metadata": {
        "id": "429YicTDmdE9"
      },
      "source": [
        "# Formularze\n",
        "Colab umożliwia generowanie formularzy w celu szybkiej parametryzacji kodu bez grzebania w kodzie źródłowym.\n",
        "\n",
        "Formularze można dodać poprzez menu:\n",
        "\n",
        "**Wstaw -> Dodaj pole formularza**\n",
        "\n",
        "lub korzystając ze składni widocznej poniżej.\n",
        "\n"
      ]
    },
    {
      "cell_type": "code",
      "metadata": {
        "id": "buJHsbQ4nF8N"
      },
      "source": [
        "#@title Pola tekstowe\n",
        "\n",
        "text = 'ala ma kota' #@param {type:\"string\"}\n",
        "dropdown = 'jeden' #@param [\"jeden\", \"dwa\", \"trzy\"]\n",
        "text_and_dropdown = 'value' #@param [\"jeden\", \"trzy\", \"cztery\"] {allow-input: true}\n",
        "\n",
        "print(text)\n",
        "print(dropdown)\n",
        "print(text_and_dropdown)"
      ],
      "execution_count": null,
      "outputs": []
    },
    {
      "cell_type": "code",
      "metadata": {
        "id": "Z7uabSG3nskR"
      },
      "source": [
        "#@title Data\n",
        "date_input = '2018-03-22' #@param {type:\"date\"}\n",
        "\n",
        "print(date_input)"
      ],
      "execution_count": null,
      "outputs": []
    },
    {
      "cell_type": "code",
      "metadata": {
        "id": "g42sHpaen-8l"
      },
      "source": [
        "#@title Pola numeryczne\n",
        "number_input = 10.0 #@param {type:\"number\"}\n",
        "number_slider = 0 #@param {type:\"slider\", min:-1, max:1, step:0.1}\n",
        "\n",
        "integer_input = 10 #@param {type:\"integer\"}\n",
        "integer_slider = 1 #@param {type:\"slider\", min:0, max:100, step:1}\n",
        "\n",
        "print(number_input)\n",
        "print(number_slider)\n",
        "\n",
        "print(integer_input)\n",
        "print(integer_slider)"
      ],
      "execution_count": null,
      "outputs": []
    },
    {
      "cell_type": "code",
      "metadata": {
        "id": "E3DJ2bIvoQ1J"
      },
      "source": [
        "#@title Pola warunkowe\n",
        "boolean_checkbox = True #@param {type:\"boolean\"}\n",
        "boolean_dropdown = True #@param [\"False\", \"True\"] {type:\"raw\"}\n",
        "\n",
        "print(boolean_checkbox)\n",
        "print(boolean_dropdown)"
      ],
      "execution_count": null,
      "outputs": []
    },
    {
      "cell_type": "markdown",
      "metadata": {
        "id": "Lcrh4VdYngLG"
      },
      "source": [
        "Aby wszystko ładnie wyglądało można ukryć kod generujący formularze:\n",
        "\n",
        "**Prawy przycisk -> Formularze -> Ukryj kod formularza**\n"
      ]
    },
    {
      "cell_type": "markdown",
      "metadata": {
        "id": "AKbgN8Cko20U"
      },
      "source": [
        "# Trochę DataScience\n",
        "\n"
      ]
    },
    {
      "cell_type": "markdown",
      "metadata": {
        "id": "Ka6mFCVKrSvS"
      },
      "source": [
        "## Numpy"
      ]
    },
    {
      "cell_type": "code",
      "metadata": {
        "colab": {
          "base_uri": "https://localhost:8080/"
        },
        "id": "1b-qqdaMrR7b",
        "outputId": "18650fd8-6643-4ef5-d7e9-b45b50d889c4"
      },
      "source": [
        "import numpy as np\n",
        "\n",
        "a = np.array([2,3])\n",
        "b = np.array([\n",
        "  [1,2],\n",
        "  [3,4]\n",
        "])\n",
        "\n",
        "b"
      ],
      "execution_count": null,
      "outputs": [
        {
          "output_type": "execute_result",
          "data": {
            "text/plain": [
              "array([[1, 2],\n",
              "       [3, 4]])"
            ]
          },
          "metadata": {
            "tags": []
          },
          "execution_count": 45
        }
      ]
    },
    {
      "cell_type": "code",
      "metadata": {
        "colab": {
          "base_uri": "https://localhost:8080/"
        },
        "id": "yjyWi9JvuHPV",
        "outputId": "6748c211-cf4e-4bab-8756-5eabc5447890"
      },
      "source": [
        "3*a"
      ],
      "execution_count": null,
      "outputs": [
        {
          "output_type": "execute_result",
          "data": {
            "text/plain": [
              "array([6, 9])"
            ]
          },
          "metadata": {
            "tags": []
          },
          "execution_count": 46
        }
      ]
    },
    {
      "cell_type": "code",
      "metadata": {
        "colab": {
          "base_uri": "https://localhost:8080/"
        },
        "id": "WyEQr42xuMbu",
        "outputId": "3cf9b404-5a2e-4965-9a82-b42021fd940f"
      },
      "source": [
        "b^2"
      ],
      "execution_count": null,
      "outputs": [
        {
          "output_type": "execute_result",
          "data": {
            "text/plain": [
              "array([[3, 0],\n",
              "       [1, 6]])"
            ]
          },
          "metadata": {
            "tags": []
          },
          "execution_count": 47
        }
      ]
    },
    {
      "cell_type": "code",
      "metadata": {
        "colab": {
          "base_uri": "https://localhost:8080/"
        },
        "id": "VMYq1kuhuXAX",
        "outputId": "6b6cd351-06f7-4d65-c4c5-b137aa9cba7f"
      },
      "source": [
        "a*b"
      ],
      "execution_count": null,
      "outputs": [
        {
          "output_type": "execute_result",
          "data": {
            "text/plain": [
              "array([[ 2,  6],\n",
              "       [ 6, 12]])"
            ]
          },
          "metadata": {
            "tags": []
          },
          "execution_count": 48
        }
      ]
    },
    {
      "cell_type": "code",
      "metadata": {
        "colab": {
          "base_uri": "https://localhost:8080/"
        },
        "id": "CrTaJfrMud6z",
        "outputId": "cd85c25b-86a5-47ed-f22b-af9c20626ad2"
      },
      "source": [
        "3 + a"
      ],
      "execution_count": null,
      "outputs": [
        {
          "output_type": "execute_result",
          "data": {
            "text/plain": [
              "array([5, 6])"
            ]
          },
          "metadata": {
            "tags": []
          },
          "execution_count": 49
        }
      ]
    },
    {
      "cell_type": "code",
      "metadata": {
        "colab": {
          "base_uri": "https://localhost:8080/"
        },
        "id": "8Hhx35MYutkH",
        "outputId": "5353592f-72f5-4e13-a914-8b8f5aa2c558"
      },
      "source": [
        "np.ones((3,4))"
      ],
      "execution_count": null,
      "outputs": [
        {
          "output_type": "execute_result",
          "data": {
            "text/plain": [
              "array([[1., 1., 1., 1.],\n",
              "       [1., 1., 1., 1.],\n",
              "       [1., 1., 1., 1.]])"
            ]
          },
          "metadata": {
            "tags": []
          },
          "execution_count": 51
        }
      ]
    },
    {
      "cell_type": "code",
      "metadata": {
        "colab": {
          "base_uri": "https://localhost:8080/"
        },
        "id": "6-r1dwAZuyRs",
        "outputId": "f46b9ee6-a121-47d2-e5b0-9b55b4b16cc8"
      },
      "source": [
        "np.zeros((10,10))"
      ],
      "execution_count": null,
      "outputs": [
        {
          "output_type": "execute_result",
          "data": {
            "text/plain": [
              "array([[0., 0., 0., 0., 0., 0., 0., 0., 0., 0.],\n",
              "       [0., 0., 0., 0., 0., 0., 0., 0., 0., 0.],\n",
              "       [0., 0., 0., 0., 0., 0., 0., 0., 0., 0.],\n",
              "       [0., 0., 0., 0., 0., 0., 0., 0., 0., 0.],\n",
              "       [0., 0., 0., 0., 0., 0., 0., 0., 0., 0.],\n",
              "       [0., 0., 0., 0., 0., 0., 0., 0., 0., 0.],\n",
              "       [0., 0., 0., 0., 0., 0., 0., 0., 0., 0.],\n",
              "       [0., 0., 0., 0., 0., 0., 0., 0., 0., 0.],\n",
              "       [0., 0., 0., 0., 0., 0., 0., 0., 0., 0.],\n",
              "       [0., 0., 0., 0., 0., 0., 0., 0., 0., 0.]])"
            ]
          },
          "metadata": {
            "tags": []
          },
          "execution_count": 52
        }
      ]
    },
    {
      "cell_type": "code",
      "metadata": {
        "colab": {
          "base_uri": "https://localhost:8080/"
        },
        "id": "nQ6PTuLOu38G",
        "outputId": "b2632193-9e9c-4919-e3b6-95fbe8574c0e"
      },
      "source": [
        "# transpozycja\n",
        "print(b)\n",
        "print(b.T)"
      ],
      "execution_count": null,
      "outputs": [
        {
          "output_type": "stream",
          "text": [
            "[[1 2]\n",
            " [3 4]]\n",
            "[[1 3]\n",
            " [2 4]]\n"
          ],
          "name": "stdout"
        }
      ]
    },
    {
      "cell_type": "markdown",
      "metadata": {
        "id": "isYy-CZErYkI"
      },
      "source": [
        "## Pandas"
      ]
    },
    {
      "cell_type": "code",
      "metadata": {
        "colab": {
          "base_uri": "https://localhost:8080/"
        },
        "id": "h3ImTSmJqFqc",
        "outputId": "68cfc158-9b06-487a-f99d-f4901f1c4596"
      },
      "source": [
        "import pandas as pd\n",
        "\n",
        "df = pd.read_csv('/content/drive/MyDrive/covid19/total-and-daily-cases-covid-19.csv')\n",
        "\n",
        "df.dtypes"
      ],
      "execution_count": null,
      "outputs": [
        {
          "output_type": "execute_result",
          "data": {
            "text/plain": [
              "Entity                               object\n",
              "Code                                 object\n",
              "Date                                 object\n",
              "Total confirmed cases (cases)         int64\n",
              "Daily new confirmed cases (cases)     int64\n",
              "dtype: object"
            ]
          },
          "metadata": {
            "tags": []
          },
          "execution_count": 28
        }
      ]
    },
    {
      "cell_type": "code",
      "metadata": {
        "colab": {
          "base_uri": "https://localhost:8080/",
          "height": 204
        },
        "id": "29XlVMdpq1fd",
        "outputId": "09166963-5549-4ab3-f5fa-3f97ac7d705a"
      },
      "source": [
        "df.head(5)"
      ],
      "execution_count": null,
      "outputs": [
        {
          "output_type": "execute_result",
          "data": {
            "text/html": [
              "<div>\n",
              "<style scoped>\n",
              "    .dataframe tbody tr th:only-of-type {\n",
              "        vertical-align: middle;\n",
              "    }\n",
              "\n",
              "    .dataframe tbody tr th {\n",
              "        vertical-align: top;\n",
              "    }\n",
              "\n",
              "    .dataframe thead th {\n",
              "        text-align: right;\n",
              "    }\n",
              "</style>\n",
              "<table border=\"1\" class=\"dataframe\">\n",
              "  <thead>\n",
              "    <tr style=\"text-align: right;\">\n",
              "      <th></th>\n",
              "      <th>Entity</th>\n",
              "      <th>Code</th>\n",
              "      <th>Date</th>\n",
              "      <th>Total confirmed cases (cases)</th>\n",
              "      <th>Daily new confirmed cases (cases)</th>\n",
              "    </tr>\n",
              "  </thead>\n",
              "  <tbody>\n",
              "    <tr>\n",
              "      <th>0</th>\n",
              "      <td>Afghanistan</td>\n",
              "      <td>AFG</td>\n",
              "      <td>Dec 31, 2019</td>\n",
              "      <td>0</td>\n",
              "      <td>0</td>\n",
              "    </tr>\n",
              "    <tr>\n",
              "      <th>1</th>\n",
              "      <td>Afghanistan</td>\n",
              "      <td>AFG</td>\n",
              "      <td>Jan 1, 2020</td>\n",
              "      <td>0</td>\n",
              "      <td>0</td>\n",
              "    </tr>\n",
              "    <tr>\n",
              "      <th>2</th>\n",
              "      <td>Afghanistan</td>\n",
              "      <td>AFG</td>\n",
              "      <td>Jan 2, 2020</td>\n",
              "      <td>0</td>\n",
              "      <td>0</td>\n",
              "    </tr>\n",
              "    <tr>\n",
              "      <th>3</th>\n",
              "      <td>Afghanistan</td>\n",
              "      <td>AFG</td>\n",
              "      <td>Jan 3, 2020</td>\n",
              "      <td>0</td>\n",
              "      <td>0</td>\n",
              "    </tr>\n",
              "    <tr>\n",
              "      <th>4</th>\n",
              "      <td>Afghanistan</td>\n",
              "      <td>AFG</td>\n",
              "      <td>Jan 4, 2020</td>\n",
              "      <td>0</td>\n",
              "      <td>0</td>\n",
              "    </tr>\n",
              "  </tbody>\n",
              "</table>\n",
              "</div>"
            ],
            "text/plain": [
              "        Entity  ... Daily new confirmed cases (cases)\n",
              "0  Afghanistan  ...                                 0\n",
              "1  Afghanistan  ...                                 0\n",
              "2  Afghanistan  ...                                 0\n",
              "3  Afghanistan  ...                                 0\n",
              "4  Afghanistan  ...                                 0\n",
              "\n",
              "[5 rows x 5 columns]"
            ]
          },
          "metadata": {
            "tags": []
          },
          "execution_count": 30
        }
      ]
    },
    {
      "cell_type": "code",
      "metadata": {
        "colab": {
          "base_uri": "https://localhost:8080/",
          "height": 142
        },
        "id": "YP4lJ9gmq644",
        "outputId": "468e6030-5db3-4569-99fd-00abeb51f7ca"
      },
      "source": [
        "df.sample(3)"
      ],
      "execution_count": null,
      "outputs": [
        {
          "output_type": "execute_result",
          "data": {
            "text/html": [
              "<div>\n",
              "<style scoped>\n",
              "    .dataframe tbody tr th:only-of-type {\n",
              "        vertical-align: middle;\n",
              "    }\n",
              "\n",
              "    .dataframe tbody tr th {\n",
              "        vertical-align: top;\n",
              "    }\n",
              "\n",
              "    .dataframe thead th {\n",
              "        text-align: right;\n",
              "    }\n",
              "</style>\n",
              "<table border=\"1\" class=\"dataframe\">\n",
              "  <thead>\n",
              "    <tr style=\"text-align: right;\">\n",
              "      <th></th>\n",
              "      <th>Entity</th>\n",
              "      <th>Code</th>\n",
              "      <th>Date</th>\n",
              "      <th>Total confirmed cases (cases)</th>\n",
              "      <th>Daily new confirmed cases (cases)</th>\n",
              "    </tr>\n",
              "  </thead>\n",
              "  <tbody>\n",
              "    <tr>\n",
              "      <th>5498</th>\n",
              "      <td>Norway</td>\n",
              "      <td>NOR</td>\n",
              "      <td>Mar 2, 2020</td>\n",
              "      <td>19</td>\n",
              "      <td>4</td>\n",
              "    </tr>\n",
              "    <tr>\n",
              "      <th>835</th>\n",
              "      <td>Belarus</td>\n",
              "      <td>BLR</td>\n",
              "      <td>Mar 24, 2020</td>\n",
              "      <td>81</td>\n",
              "      <td>5</td>\n",
              "    </tr>\n",
              "    <tr>\n",
              "      <th>4497</th>\n",
              "      <td>Luxembourg</td>\n",
              "      <td>LUX</td>\n",
              "      <td>Mar 11, 2020</td>\n",
              "      <td>7</td>\n",
              "      <td>2</td>\n",
              "    </tr>\n",
              "  </tbody>\n",
              "</table>\n",
              "</div>"
            ],
            "text/plain": [
              "          Entity  ... Daily new confirmed cases (cases)\n",
              "5498      Norway  ...                                 4\n",
              "835      Belarus  ...                                 5\n",
              "4497  Luxembourg  ...                                 2\n",
              "\n",
              "[3 rows x 5 columns]"
            ]
          },
          "metadata": {
            "tags": []
          },
          "execution_count": 32
        }
      ]
    },
    {
      "cell_type": "code",
      "metadata": {
        "colab": {
          "base_uri": "https://localhost:8080/",
          "height": 297
        },
        "id": "O5ABubq0rDiz",
        "outputId": "b5ffb3b6-6dac-4326-f357-361afec41d75"
      },
      "source": [
        "df.describe()"
      ],
      "execution_count": null,
      "outputs": [
        {
          "output_type": "execute_result",
          "data": {
            "text/html": [
              "<div>\n",
              "<style scoped>\n",
              "    .dataframe tbody tr th:only-of-type {\n",
              "        vertical-align: middle;\n",
              "    }\n",
              "\n",
              "    .dataframe tbody tr th {\n",
              "        vertical-align: top;\n",
              "    }\n",
              "\n",
              "    .dataframe thead th {\n",
              "        text-align: right;\n",
              "    }\n",
              "</style>\n",
              "<table border=\"1\" class=\"dataframe\">\n",
              "  <thead>\n",
              "    <tr style=\"text-align: right;\">\n",
              "      <th></th>\n",
              "      <th>Total confirmed cases (cases)</th>\n",
              "      <th>Daily new confirmed cases (cases)</th>\n",
              "    </tr>\n",
              "  </thead>\n",
              "  <tbody>\n",
              "    <tr>\n",
              "      <th>count</th>\n",
              "      <td>7996.000000</td>\n",
              "      <td>7996.000000</td>\n",
              "    </tr>\n",
              "    <tr>\n",
              "      <th>mean</th>\n",
              "      <td>2441.369060</td>\n",
              "      <td>194.546773</td>\n",
              "    </tr>\n",
              "    <tr>\n",
              "      <th>std</th>\n",
              "      <td>22375.617031</td>\n",
              "      <td>2083.395028</td>\n",
              "    </tr>\n",
              "    <tr>\n",
              "      <th>min</th>\n",
              "      <td>0.000000</td>\n",
              "      <td>-9.000000</td>\n",
              "    </tr>\n",
              "    <tr>\n",
              "      <th>25%</th>\n",
              "      <td>0.000000</td>\n",
              "      <td>0.000000</td>\n",
              "    </tr>\n",
              "    <tr>\n",
              "      <th>50%</th>\n",
              "      <td>3.000000</td>\n",
              "      <td>0.000000</td>\n",
              "    </tr>\n",
              "    <tr>\n",
              "      <th>75%</th>\n",
              "      <td>60.000000</td>\n",
              "      <td>8.000000</td>\n",
              "    </tr>\n",
              "    <tr>\n",
              "      <th>max</th>\n",
              "      <td>777798.000000</td>\n",
              "      <td>65162.000000</td>\n",
              "    </tr>\n",
              "  </tbody>\n",
              "</table>\n",
              "</div>"
            ],
            "text/plain": [
              "       Total confirmed cases (cases)  Daily new confirmed cases (cases)\n",
              "count                    7996.000000                        7996.000000\n",
              "mean                     2441.369060                         194.546773\n",
              "std                     22375.617031                        2083.395028\n",
              "min                         0.000000                          -9.000000\n",
              "25%                         0.000000                           0.000000\n",
              "50%                         3.000000                           0.000000\n",
              "75%                        60.000000                           8.000000\n",
              "max                    777798.000000                       65162.000000"
            ]
          },
          "metadata": {
            "tags": []
          },
          "execution_count": 33
        }
      ]
    },
    {
      "cell_type": "markdown",
      "metadata": {
        "id": "AyiHZbjCrawA"
      },
      "source": [
        "## Pyplot"
      ]
    },
    {
      "cell_type": "code",
      "metadata": {
        "colab": {
          "base_uri": "https://localhost:8080/",
          "height": 281
        },
        "id": "EIPanr2HpIrn",
        "outputId": "cc374735-c4bf-4315-b6c6-f01ca7e4b1c7"
      },
      "source": [
        "import numpy as np\n",
        "from matplotlib import pyplot as plt\n",
        "\n",
        "ys = 200 + np.random.randn(100)\n",
        "x = [x for x in range(len(ys))]\n",
        "\n",
        "plt.plot(x, ys, '.')\n",
        "plt.fill_between(x, ys, 195, where=(ys > 195), facecolor='g', alpha=0.6)\n",
        "\n",
        "plt.title(\"Prosty wykresik\")\n",
        "plt.show()"
      ],
      "execution_count": null,
      "outputs": [
        {
          "output_type": "display_data",
          "data": {
            "image/png": "[encoded data removed]",
            "text/plain": [
              "<Figure size 432x288 with 1 Axes>"
            ]
          },
          "metadata": {
            "tags": [],
            "needs_background": "light"
          }
        }
      ]
    }
  ]
}